{
 "cells": [
  {
   "cell_type": "code",
   "execution_count": 1,
   "id": "20ed8a40-4f73-4871-a4bd-9e0b7cc14fe5",
   "metadata": {
    "tags": []
   },
   "outputs": [],
   "source": [
    "# new .py script\n",
    "from emotion_model_2 import *"
   ]
  },
  {
   "cell_type": "code",
   "execution_count": 5,
   "id": "3b46247b-ec3c-4a7b-a55b-c00e3ba0829d",
   "metadata": {
    "tags": []
   },
   "outputs": [],
   "source": [
    "import altair as alt"
   ]
  },
  {
   "cell_type": "markdown",
   "id": "c4ef1ecd-df3f-4a3f-b5c3-25ffd4474cb5",
   "metadata": {
    "tags": []
   },
   "source": [
    "### 1."
   ]
  },
  {
   "cell_type": "code",
   "execution_count": 3,
   "id": "d8fb08ae-638a-4935-8d6e-8f81b8f7b657",
   "metadata": {
    "tags": []
   },
   "outputs": [
    {
     "name": "stdout",
     "output_type": "stream",
     "text": [
      "Professor: Cinda Heeren\n",
      "  Total Reviews: 20\n",
      "  Average Quality: 4.25\n",
      "  Average Difficulty: 2.15\n",
      "  Average Confidence Score: 0.9062\n",
      "  Emotion Distribution: {'admiration': 16, 'love': 1, 'neutral': 1, 'surprise': 1, 'confusion': 1}\n",
      "\n"
     ]
    }
   ],
   "source": [
    "review_1 = run_analysis(\"reviews/prof2302527scrape-Copy1.json\")"
   ]
  },
  {
   "cell_type": "code",
   "execution_count": 4,
   "id": "42d42d37-feed-4e8c-9f74-79ae8cc6763d",
   "metadata": {
    "tags": []
   },
   "outputs": [
    {
     "data": {
      "text/html": [
       "<div>\n",
       "<style scoped>\n",
       "    .dataframe tbody tr th:only-of-type {\n",
       "        vertical-align: middle;\n",
       "    }\n",
       "\n",
       "    .dataframe tbody tr th {\n",
       "        vertical-align: top;\n",
       "    }\n",
       "\n",
       "    .dataframe thead th {\n",
       "        text-align: right;\n",
       "    }\n",
       "</style>\n",
       "<table border=\"1\" class=\"dataframe\">\n",
       "  <thead>\n",
       "    <tr style=\"text-align: right;\">\n",
       "      <th></th>\n",
       "      <th>Professor</th>\n",
       "      <th>Total Reviews</th>\n",
       "      <th>Average Quality</th>\n",
       "      <th>Average Difficulty</th>\n",
       "      <th>Average Confidence Score</th>\n",
       "      <th>admiration</th>\n",
       "      <th>love</th>\n",
       "      <th>neutral</th>\n",
       "      <th>surprise</th>\n",
       "      <th>confusion</th>\n",
       "    </tr>\n",
       "  </thead>\n",
       "  <tbody>\n",
       "    <tr>\n",
       "      <th>0</th>\n",
       "      <td>Cinda Heeren</td>\n",
       "      <td>20</td>\n",
       "      <td>4.25</td>\n",
       "      <td>2.15</td>\n",
       "      <td>0.9062</td>\n",
       "      <td>16</td>\n",
       "      <td>1</td>\n",
       "      <td>1</td>\n",
       "      <td>1</td>\n",
       "      <td>1</td>\n",
       "    </tr>\n",
       "  </tbody>\n",
       "</table>\n",
       "</div>"
      ],
      "text/plain": [
       "      Professor  Total Reviews  Average Quality  Average Difficulty  \\\n",
       "0  Cinda Heeren             20             4.25                2.15   \n",
       "\n",
       "   Average Confidence Score  admiration  love  neutral  surprise  confusion  \n",
       "0                    0.9062          16     1        1         1          1  "
      ]
     },
     "execution_count": 4,
     "metadata": {},
     "output_type": "execute_result"
    }
   ],
   "source": [
    "review_1"
   ]
  },
  {
   "cell_type": "code",
   "execution_count": 30,
   "id": "616e9322-bf71-438a-93e9-2fae8ba03c24",
   "metadata": {
    "tags": []
   },
   "outputs": [
    {
     "data": {
      "text/html": [
       "\n",
       "<style>\n",
       "  #altair-viz-3e72cd47d39f4c6999087b758c296e20.vega-embed {\n",
       "    width: 100%;\n",
       "    display: flex;\n",
       "  }\n",
       "\n",
       "  #altair-viz-3e72cd47d39f4c6999087b758c296e20.vega-embed details,\n",
       "  #altair-viz-3e72cd47d39f4c6999087b758c296e20.vega-embed details summary {\n",
       "    position: relative;\n",
       "  }\n",
       "</style>\n",
       "<div id=\"altair-viz-3e72cd47d39f4c6999087b758c296e20\"></div>\n",
       "<script type=\"text/javascript\">\n",
       "  var VEGA_DEBUG = (typeof VEGA_DEBUG == \"undefined\") ? {} : VEGA_DEBUG;\n",
       "  (function(spec, embedOpt){\n",
       "    let outputDiv = document.currentScript.previousElementSibling;\n",
       "    if (outputDiv.id !== \"altair-viz-3e72cd47d39f4c6999087b758c296e20\") {\n",
       "      outputDiv = document.getElementById(\"altair-viz-3e72cd47d39f4c6999087b758c296e20\");\n",
       "    }\n",
       "    const paths = {\n",
       "      \"vega\": \"https://cdn.jsdelivr.net/npm/vega@5?noext\",\n",
       "      \"vega-lib\": \"https://cdn.jsdelivr.net/npm/vega-lib?noext\",\n",
       "      \"vega-lite\": \"https://cdn.jsdelivr.net/npm/vega-lite@5.16.3?noext\",\n",
       "      \"vega-embed\": \"https://cdn.jsdelivr.net/npm/vega-embed@6?noext\",\n",
       "    };\n",
       "\n",
       "    function maybeLoadScript(lib, version) {\n",
       "      var key = `${lib.replace(\"-\", \"\")}_version`;\n",
       "      return (VEGA_DEBUG[key] == version) ?\n",
       "        Promise.resolve(paths[lib]) :\n",
       "        new Promise(function(resolve, reject) {\n",
       "          var s = document.createElement('script');\n",
       "          document.getElementsByTagName(\"head\")[0].appendChild(s);\n",
       "          s.async = true;\n",
       "          s.onload = () => {\n",
       "            VEGA_DEBUG[key] = version;\n",
       "            return resolve(paths[lib]);\n",
       "          };\n",
       "          s.onerror = () => reject(`Error loading script: ${paths[lib]}`);\n",
       "          s.src = paths[lib];\n",
       "        });\n",
       "    }\n",
       "\n",
       "    function showError(err) {\n",
       "      outputDiv.innerHTML = `<div class=\"error\" style=\"color:red;\">${err}</div>`;\n",
       "      throw err;\n",
       "    }\n",
       "\n",
       "    function displayChart(vegaEmbed) {\n",
       "      vegaEmbed(outputDiv, spec, embedOpt)\n",
       "        .catch(err => showError(`Javascript Error: ${err.message}<br>This usually means there's a typo in your chart specification. See the javascript console for the full traceback.`));\n",
       "    }\n",
       "\n",
       "    if(typeof define === \"function\" && define.amd) {\n",
       "      requirejs.config({paths});\n",
       "      require([\"vega-embed\"], displayChart, err => showError(`Error loading script: ${err.message}`));\n",
       "    } else {\n",
       "      maybeLoadScript(\"vega\", \"5\")\n",
       "        .then(() => maybeLoadScript(\"vega-lite\", \"5.16.3\"))\n",
       "        .then(() => maybeLoadScript(\"vega-embed\", \"6\"))\n",
       "        .catch(showError)\n",
       "        .then(() => displayChart(vegaEmbed));\n",
       "    }\n",
       "  })({\"config\": {\"view\": {\"continuousWidth\": 300, \"continuousHeight\": 300}, \"axis\": {\"grid\": false}}, \"data\": {\"name\": \"data-88147642e692c710956362a47ca4199a\"}, \"mark\": {\"type\": \"bar\", \"color\": \"red\"}, \"encoding\": {\"x\": {\"field\": \"Count\", \"type\": \"quantitative\"}, \"y\": {\"field\": \"Emotion\", \"sort\": \"x\", \"type\": \"nominal\"}}, \"height\": 200, \"title\": \"Distribution of Emotions for Professor Cinda Heeren\", \"width\": 500, \"$schema\": \"https://vega.github.io/schema/vega-lite/v5.16.3.json\", \"datasets\": {\"data-88147642e692c710956362a47ca4199a\": [{\"Emotion\": \"admiration\", \"Count\": 16}, {\"Emotion\": \"love\", \"Count\": 1}, {\"Emotion\": \"neutral\", \"Count\": 1}, {\"Emotion\": \"surprise\", \"Count\": 1}, {\"Emotion\": \"confusion\", \"Count\": 1}]}}, {\"mode\": \"vega-lite\"});\n",
       "</script>"
      ],
      "text/plain": [
       "alt.Chart(...)"
      ]
     },
     "execution_count": 30,
     "metadata": {},
     "output_type": "execute_result"
    }
   ],
   "source": [
    "# viz 1\n",
    "\n",
    "emotion_columns = ['admiration', 'love', 'neutral', 'surprise', 'confusion']\n",
    "emotion_counts = review_1[emotion_columns].melt(var_name = 'Emotion', value_name = 'Count')\n",
    "\n",
    "alt.Chart(emotion_counts).mark_bar(color = \"red\").encode(\n",
    "    y = alt.Y(\"Emotion\").sort(\"x\"),\n",
    "    x = alt.X(\"Count\"),\n",
    "    \n",
    ").properties(\n",
    "    title = \"Distribution of Emotions for Professor Cinda Heeren\",\n",
    "    width = 500,\n",
    "    height = 200\n",
    "    \n",
    ").configure(\n",
    "    axis = alt.Axis(grid = False)\n",
    ")"
   ]
  },
  {
   "cell_type": "markdown",
   "id": "1064e0df-7cbd-4b7e-9a87-b97d550a5953",
   "metadata": {},
   "source": [
    "### 2."
   ]
  },
  {
   "cell_type": "code",
   "execution_count": 19,
   "id": "db45719c-e9dc-4c9d-aedb-087b2c82edb9",
   "metadata": {
    "tags": []
   },
   "outputs": [
    {
     "name": "stdout",
     "output_type": "stream",
     "text": [
      "Professor: Ben Williams\n",
      "  Total Reviews: 20\n",
      "  Average Quality: 3.80\n",
      "  Average Difficulty: 3.65\n",
      "  Average Confidence Score: 0.9249\n",
      "  Emotion Distribution: {'admiration': 10, 'gratitude': 1, 'neutral': 2, 'approval': 1, 'disappointment': 1, 'joy': 1, 'fear': 1, 'annoyance': 2, 'disgust': 1}\n",
      "\n"
     ]
    }
   ],
   "source": [
    "review_2 = run_analysis(\"reviews/prof1835982scrape-Copy1.json\")"
   ]
  },
  {
   "cell_type": "code",
   "execution_count": 20,
   "id": "2ee468c2-7b15-499c-9321-12b8c50bd4f4",
   "metadata": {
    "tags": []
   },
   "outputs": [
    {
     "data": {
      "text/html": [
       "<div>\n",
       "<style scoped>\n",
       "    .dataframe tbody tr th:only-of-type {\n",
       "        vertical-align: middle;\n",
       "    }\n",
       "\n",
       "    .dataframe tbody tr th {\n",
       "        vertical-align: top;\n",
       "    }\n",
       "\n",
       "    .dataframe thead th {\n",
       "        text-align: right;\n",
       "    }\n",
       "</style>\n",
       "<table border=\"1\" class=\"dataframe\">\n",
       "  <thead>\n",
       "    <tr style=\"text-align: right;\">\n",
       "      <th></th>\n",
       "      <th>Professor</th>\n",
       "      <th>Total Reviews</th>\n",
       "      <th>Average Quality</th>\n",
       "      <th>Average Difficulty</th>\n",
       "      <th>Average Confidence Score</th>\n",
       "      <th>admiration</th>\n",
       "      <th>gratitude</th>\n",
       "      <th>neutral</th>\n",
       "      <th>approval</th>\n",
       "      <th>disappointment</th>\n",
       "      <th>joy</th>\n",
       "      <th>fear</th>\n",
       "      <th>annoyance</th>\n",
       "      <th>disgust</th>\n",
       "    </tr>\n",
       "  </thead>\n",
       "  <tbody>\n",
       "    <tr>\n",
       "      <th>0</th>\n",
       "      <td>Ben Williams</td>\n",
       "      <td>20</td>\n",
       "      <td>3.8</td>\n",
       "      <td>3.65</td>\n",
       "      <td>0.924853</td>\n",
       "      <td>10</td>\n",
       "      <td>1</td>\n",
       "      <td>2</td>\n",
       "      <td>1</td>\n",
       "      <td>1</td>\n",
       "      <td>1</td>\n",
       "      <td>1</td>\n",
       "      <td>2</td>\n",
       "      <td>1</td>\n",
       "    </tr>\n",
       "  </tbody>\n",
       "</table>\n",
       "</div>"
      ],
      "text/plain": [
       "      Professor  Total Reviews  Average Quality  Average Difficulty  \\\n",
       "0  Ben Williams             20              3.8                3.65   \n",
       "\n",
       "   Average Confidence Score  admiration  gratitude  neutral  approval  \\\n",
       "0                  0.924853          10          1        2         1   \n",
       "\n",
       "   disappointment  joy  fear  annoyance  disgust  \n",
       "0               1    1     1          2        1  "
      ]
     },
     "execution_count": 20,
     "metadata": {},
     "output_type": "execute_result"
    }
   ],
   "source": [
    "review_2"
   ]
  },
  {
   "cell_type": "code",
   "execution_count": 31,
   "id": "70b1e635-71a0-4609-ad34-b56ad97279cf",
   "metadata": {
    "tags": []
   },
   "outputs": [
    {
     "data": {
      "text/html": [
       "\n",
       "<style>\n",
       "  #altair-viz-f4d7f6ed83f34db0a89108f3d7990cbd.vega-embed {\n",
       "    width: 100%;\n",
       "    display: flex;\n",
       "  }\n",
       "\n",
       "  #altair-viz-f4d7f6ed83f34db0a89108f3d7990cbd.vega-embed details,\n",
       "  #altair-viz-f4d7f6ed83f34db0a89108f3d7990cbd.vega-embed details summary {\n",
       "    position: relative;\n",
       "  }\n",
       "</style>\n",
       "<div id=\"altair-viz-f4d7f6ed83f34db0a89108f3d7990cbd\"></div>\n",
       "<script type=\"text/javascript\">\n",
       "  var VEGA_DEBUG = (typeof VEGA_DEBUG == \"undefined\") ? {} : VEGA_DEBUG;\n",
       "  (function(spec, embedOpt){\n",
       "    let outputDiv = document.currentScript.previousElementSibling;\n",
       "    if (outputDiv.id !== \"altair-viz-f4d7f6ed83f34db0a89108f3d7990cbd\") {\n",
       "      outputDiv = document.getElementById(\"altair-viz-f4d7f6ed83f34db0a89108f3d7990cbd\");\n",
       "    }\n",
       "    const paths = {\n",
       "      \"vega\": \"https://cdn.jsdelivr.net/npm/vega@5?noext\",\n",
       "      \"vega-lib\": \"https://cdn.jsdelivr.net/npm/vega-lib?noext\",\n",
       "      \"vega-lite\": \"https://cdn.jsdelivr.net/npm/vega-lite@5.16.3?noext\",\n",
       "      \"vega-embed\": \"https://cdn.jsdelivr.net/npm/vega-embed@6?noext\",\n",
       "    };\n",
       "\n",
       "    function maybeLoadScript(lib, version) {\n",
       "      var key = `${lib.replace(\"-\", \"\")}_version`;\n",
       "      return (VEGA_DEBUG[key] == version) ?\n",
       "        Promise.resolve(paths[lib]) :\n",
       "        new Promise(function(resolve, reject) {\n",
       "          var s = document.createElement('script');\n",
       "          document.getElementsByTagName(\"head\")[0].appendChild(s);\n",
       "          s.async = true;\n",
       "          s.onload = () => {\n",
       "            VEGA_DEBUG[key] = version;\n",
       "            return resolve(paths[lib]);\n",
       "          };\n",
       "          s.onerror = () => reject(`Error loading script: ${paths[lib]}`);\n",
       "          s.src = paths[lib];\n",
       "        });\n",
       "    }\n",
       "\n",
       "    function showError(err) {\n",
       "      outputDiv.innerHTML = `<div class=\"error\" style=\"color:red;\">${err}</div>`;\n",
       "      throw err;\n",
       "    }\n",
       "\n",
       "    function displayChart(vegaEmbed) {\n",
       "      vegaEmbed(outputDiv, spec, embedOpt)\n",
       "        .catch(err => showError(`Javascript Error: ${err.message}<br>This usually means there's a typo in your chart specification. See the javascript console for the full traceback.`));\n",
       "    }\n",
       "\n",
       "    if(typeof define === \"function\" && define.amd) {\n",
       "      requirejs.config({paths});\n",
       "      require([\"vega-embed\"], displayChart, err => showError(`Error loading script: ${err.message}`));\n",
       "    } else {\n",
       "      maybeLoadScript(\"vega\", \"5\")\n",
       "        .then(() => maybeLoadScript(\"vega-lite\", \"5.16.3\"))\n",
       "        .then(() => maybeLoadScript(\"vega-embed\", \"6\"))\n",
       "        .catch(showError)\n",
       "        .then(() => displayChart(vegaEmbed));\n",
       "    }\n",
       "  })({\"config\": {\"view\": {\"continuousWidth\": 300, \"continuousHeight\": 300}, \"axis\": {\"grid\": false}}, \"data\": {\"name\": \"data-e44850256274570fa8f3b199dabcb69b\"}, \"mark\": {\"type\": \"bar\", \"color\": \"blue\"}, \"encoding\": {\"x\": {\"field\": \"Count\", \"type\": \"quantitative\"}, \"y\": {\"field\": \"Emotion\", \"sort\": \"x\", \"type\": \"nominal\"}}, \"height\": 200, \"title\": \"Distribution of Emotions for Professor Ben Williams\", \"width\": 500, \"$schema\": \"https://vega.github.io/schema/vega-lite/v5.16.3.json\", \"datasets\": {\"data-e44850256274570fa8f3b199dabcb69b\": [{\"Emotion\": \"admiration\", \"Count\": 10}, {\"Emotion\": \"gratitude\", \"Count\": 1}, {\"Emotion\": \"neutral\", \"Count\": 2}, {\"Emotion\": \"approval\", \"Count\": 1}, {\"Emotion\": \"disappointment\", \"Count\": 1}, {\"Emotion\": \"joy\", \"Count\": 1}, {\"Emotion\": \"fear\", \"Count\": 1}, {\"Emotion\": \"annoyance\", \"Count\": 2}, {\"Emotion\": \"disgust\", \"Count\": 1}]}}, {\"mode\": \"vega-lite\"});\n",
       "</script>"
      ],
      "text/plain": [
       "alt.Chart(...)"
      ]
     },
     "execution_count": 31,
     "metadata": {},
     "output_type": "execute_result"
    }
   ],
   "source": [
    "# viz 2\n",
    "\n",
    "emotion_columns = ['admiration', 'gratitude', 'neutral', 'approval', 'disappointment', 'joy', 'fear', 'annoyance', 'disgust']\n",
    "emotion_counts = review_2[emotion_columns].melt(var_name = 'Emotion', value_name = 'Count')\n",
    "\n",
    "alt.Chart(emotion_counts).mark_bar(color = \"blue\").encode(\n",
    "    y = alt.Y(\"Emotion\").sort(\"x\"),\n",
    "    x = alt.X(\"Count\"),\n",
    "    \n",
    ").properties(\n",
    "    title = \"Distribution of Emotions for Professor Ben Williams\",\n",
    "    width = 500,\n",
    "    height = 200\n",
    "    \n",
    ").configure(\n",
    "    axis = alt.Axis(grid = False)\n",
    ")"
   ]
  },
  {
   "cell_type": "markdown",
   "id": "d372b0d0-a33b-4dcd-b731-4956d210ca95",
   "metadata": {},
   "source": [
    "### 3."
   ]
  },
  {
   "cell_type": "code",
   "execution_count": 22,
   "id": "8bafb493-049b-45db-b199-566d5664c01c",
   "metadata": {
    "tags": []
   },
   "outputs": [
    {
     "name": "stdout",
     "output_type": "stream",
     "text": [
      "Professor: Gregor Kiczales\n",
      "  Total Reviews: 20\n",
      "  Average Quality: 4.00\n",
      "  Average Difficulty: 3.55\n",
      "  Average Confidence Score: 0.8902\n",
      "  Emotion Distribution: {'neutral': 4, 'caring': 2, 'admiration': 9, 'disappointment': 1, 'annoyance': 1, 'amusement': 1, 'disapproval': 2}\n",
      "\n"
     ]
    }
   ],
   "source": [
    "review_3 = run_analysis(\"reviews/prof38077scrape.json\")"
   ]
  },
  {
   "cell_type": "code",
   "execution_count": 23,
   "id": "91c2c92a-2d20-4099-baf6-3f2c68ea50de",
   "metadata": {
    "tags": []
   },
   "outputs": [
    {
     "data": {
      "text/html": [
       "<div>\n",
       "<style scoped>\n",
       "    .dataframe tbody tr th:only-of-type {\n",
       "        vertical-align: middle;\n",
       "    }\n",
       "\n",
       "    .dataframe tbody tr th {\n",
       "        vertical-align: top;\n",
       "    }\n",
       "\n",
       "    .dataframe thead th {\n",
       "        text-align: right;\n",
       "    }\n",
       "</style>\n",
       "<table border=\"1\" class=\"dataframe\">\n",
       "  <thead>\n",
       "    <tr style=\"text-align: right;\">\n",
       "      <th></th>\n",
       "      <th>Professor</th>\n",
       "      <th>Total Reviews</th>\n",
       "      <th>Average Quality</th>\n",
       "      <th>Average Difficulty</th>\n",
       "      <th>Average Confidence Score</th>\n",
       "      <th>neutral</th>\n",
       "      <th>caring</th>\n",
       "      <th>admiration</th>\n",
       "      <th>disappointment</th>\n",
       "      <th>annoyance</th>\n",
       "      <th>amusement</th>\n",
       "      <th>disapproval</th>\n",
       "    </tr>\n",
       "  </thead>\n",
       "  <tbody>\n",
       "    <tr>\n",
       "      <th>0</th>\n",
       "      <td>Gregor Kiczales</td>\n",
       "      <td>20</td>\n",
       "      <td>4.0</td>\n",
       "      <td>3.55</td>\n",
       "      <td>0.89022</td>\n",
       "      <td>4</td>\n",
       "      <td>2</td>\n",
       "      <td>9</td>\n",
       "      <td>1</td>\n",
       "      <td>1</td>\n",
       "      <td>1</td>\n",
       "      <td>2</td>\n",
       "    </tr>\n",
       "  </tbody>\n",
       "</table>\n",
       "</div>"
      ],
      "text/plain": [
       "         Professor  Total Reviews  Average Quality  Average Difficulty  \\\n",
       "0  Gregor Kiczales             20              4.0                3.55   \n",
       "\n",
       "   Average Confidence Score  neutral  caring  admiration  disappointment  \\\n",
       "0                   0.89022        4       2           9               1   \n",
       "\n",
       "   annoyance  amusement  disapproval  \n",
       "0          1          1            2  "
      ]
     },
     "execution_count": 23,
     "metadata": {},
     "output_type": "execute_result"
    }
   ],
   "source": [
    "review_3"
   ]
  },
  {
   "cell_type": "code",
   "execution_count": 32,
   "id": "9e1bf4b8-ddf3-4465-b5bd-8cc3f37fc93e",
   "metadata": {
    "tags": []
   },
   "outputs": [
    {
     "data": {
      "text/html": [
       "\n",
       "<style>\n",
       "  #altair-viz-41f1b7c1fef8458f9b7b7b10ccbfc6fc.vega-embed {\n",
       "    width: 100%;\n",
       "    display: flex;\n",
       "  }\n",
       "\n",
       "  #altair-viz-41f1b7c1fef8458f9b7b7b10ccbfc6fc.vega-embed details,\n",
       "  #altair-viz-41f1b7c1fef8458f9b7b7b10ccbfc6fc.vega-embed details summary {\n",
       "    position: relative;\n",
       "  }\n",
       "</style>\n",
       "<div id=\"altair-viz-41f1b7c1fef8458f9b7b7b10ccbfc6fc\"></div>\n",
       "<script type=\"text/javascript\">\n",
       "  var VEGA_DEBUG = (typeof VEGA_DEBUG == \"undefined\") ? {} : VEGA_DEBUG;\n",
       "  (function(spec, embedOpt){\n",
       "    let outputDiv = document.currentScript.previousElementSibling;\n",
       "    if (outputDiv.id !== \"altair-viz-41f1b7c1fef8458f9b7b7b10ccbfc6fc\") {\n",
       "      outputDiv = document.getElementById(\"altair-viz-41f1b7c1fef8458f9b7b7b10ccbfc6fc\");\n",
       "    }\n",
       "    const paths = {\n",
       "      \"vega\": \"https://cdn.jsdelivr.net/npm/vega@5?noext\",\n",
       "      \"vega-lib\": \"https://cdn.jsdelivr.net/npm/vega-lib?noext\",\n",
       "      \"vega-lite\": \"https://cdn.jsdelivr.net/npm/vega-lite@5.16.3?noext\",\n",
       "      \"vega-embed\": \"https://cdn.jsdelivr.net/npm/vega-embed@6?noext\",\n",
       "    };\n",
       "\n",
       "    function maybeLoadScript(lib, version) {\n",
       "      var key = `${lib.replace(\"-\", \"\")}_version`;\n",
       "      return (VEGA_DEBUG[key] == version) ?\n",
       "        Promise.resolve(paths[lib]) :\n",
       "        new Promise(function(resolve, reject) {\n",
       "          var s = document.createElement('script');\n",
       "          document.getElementsByTagName(\"head\")[0].appendChild(s);\n",
       "          s.async = true;\n",
       "          s.onload = () => {\n",
       "            VEGA_DEBUG[key] = version;\n",
       "            return resolve(paths[lib]);\n",
       "          };\n",
       "          s.onerror = () => reject(`Error loading script: ${paths[lib]}`);\n",
       "          s.src = paths[lib];\n",
       "        });\n",
       "    }\n",
       "\n",
       "    function showError(err) {\n",
       "      outputDiv.innerHTML = `<div class=\"error\" style=\"color:red;\">${err}</div>`;\n",
       "      throw err;\n",
       "    }\n",
       "\n",
       "    function displayChart(vegaEmbed) {\n",
       "      vegaEmbed(outputDiv, spec, embedOpt)\n",
       "        .catch(err => showError(`Javascript Error: ${err.message}<br>This usually means there's a typo in your chart specification. See the javascript console for the full traceback.`));\n",
       "    }\n",
       "\n",
       "    if(typeof define === \"function\" && define.amd) {\n",
       "      requirejs.config({paths});\n",
       "      require([\"vega-embed\"], displayChart, err => showError(`Error loading script: ${err.message}`));\n",
       "    } else {\n",
       "      maybeLoadScript(\"vega\", \"5\")\n",
       "        .then(() => maybeLoadScript(\"vega-lite\", \"5.16.3\"))\n",
       "        .then(() => maybeLoadScript(\"vega-embed\", \"6\"))\n",
       "        .catch(showError)\n",
       "        .then(() => displayChart(vegaEmbed));\n",
       "    }\n",
       "  })({\"config\": {\"view\": {\"continuousWidth\": 300, \"continuousHeight\": 300}, \"axis\": {\"grid\": false}}, \"data\": {\"name\": \"data-6dc9cf008b76a98fe92008ebb1537a72\"}, \"mark\": {\"type\": \"bar\", \"color\": \"purple\"}, \"encoding\": {\"x\": {\"field\": \"Count\", \"type\": \"quantitative\"}, \"y\": {\"field\": \"Emotion\", \"sort\": \"x\", \"type\": \"nominal\"}}, \"height\": 200, \"title\": \"Distribution of Emotions for Professor Gregor Kiczales\", \"width\": 500, \"$schema\": \"https://vega.github.io/schema/vega-lite/v5.16.3.json\", \"datasets\": {\"data-6dc9cf008b76a98fe92008ebb1537a72\": [{\"Emotion\": \"neutral\", \"Count\": 4}, {\"Emotion\": \"caring\", \"Count\": 2}, {\"Emotion\": \"admiration\", \"Count\": 9}, {\"Emotion\": \"disappointment\", \"Count\": 1}, {\"Emotion\": \"annoyance\", \"Count\": 1}, {\"Emotion\": \"amusement\", \"Count\": 1}, {\"Emotion\": \"disapproval\", \"Count\": 2}]}}, {\"mode\": \"vega-lite\"});\n",
       "</script>"
      ],
      "text/plain": [
       "alt.Chart(...)"
      ]
     },
     "execution_count": 32,
     "metadata": {},
     "output_type": "execute_result"
    }
   ],
   "source": [
    "# viz 3\n",
    "\n",
    "emotion_columns = ['neutral', 'caring', 'admiration', 'disappointment', 'annoyance', 'amusement', 'disapproval']\n",
    "emotion_counts = review_3[emotion_columns].melt(var_name = 'Emotion', value_name = 'Count')\n",
    "\n",
    "\n",
    "alt.Chart(emotion_counts).mark_bar(color = \"purple\").encode(\n",
    "    y = alt.Y(\"Emotion\").sort(\"x\"),\n",
    "    x = alt.X(\"Count\"),\n",
    "    \n",
    ").properties(\n",
    "    title = \"Distribution of Emotions for Professor Gregor Kiczales\",\n",
    "    width = 500,\n",
    "    height = 200\n",
    "    \n",
    ").configure(\n",
    "    axis = alt.Axis(grid = False)\n",
    ")"
   ]
  },
  {
   "cell_type": "markdown",
   "id": "e7bdac76-41af-436c-8941-f150780dbff5",
   "metadata": {},
   "source": [
    "<br>\n",
    "\n",
    "#### **Comparison of Profs**"
   ]
  },
  {
   "cell_type": "code",
   "execution_count": 44,
   "id": "dd7849c2-40ad-4485-89fc-215c78cc8d7c",
   "metadata": {
    "tags": []
   },
   "outputs": [
    {
     "data": {
      "text/html": [
       "<div>\n",
       "<style scoped>\n",
       "    .dataframe tbody tr th:only-of-type {\n",
       "        vertical-align: middle;\n",
       "    }\n",
       "\n",
       "    .dataframe tbody tr th {\n",
       "        vertical-align: top;\n",
       "    }\n",
       "\n",
       "    .dataframe thead th {\n",
       "        text-align: right;\n",
       "    }\n",
       "</style>\n",
       "<table border=\"1\" class=\"dataframe\">\n",
       "  <thead>\n",
       "    <tr style=\"text-align: right;\">\n",
       "      <th></th>\n",
       "      <th>Professor</th>\n",
       "      <th>Total Reviews</th>\n",
       "      <th>Average Quality</th>\n",
       "      <th>Average Difficulty</th>\n",
       "      <th>Average Confidence Score</th>\n",
       "    </tr>\n",
       "  </thead>\n",
       "  <tbody>\n",
       "    <tr>\n",
       "      <th>0</th>\n",
       "      <td>Cinda Heeren</td>\n",
       "      <td>20</td>\n",
       "      <td>4.25</td>\n",
       "      <td>2.15</td>\n",
       "      <td>0.9062</td>\n",
       "    </tr>\n",
       "  </tbody>\n",
       "</table>\n",
       "</div>"
      ],
      "text/plain": [
       "      Professor  Total Reviews  Average Quality  Average Difficulty  \\\n",
       "0  Cinda Heeren             20             4.25                2.15   \n",
       "\n",
       "   Average Confidence Score  \n",
       "0                    0.9062  "
      ]
     },
     "execution_count": 44,
     "metadata": {},
     "output_type": "execute_result"
    }
   ],
   "source": [
    "prof_scores = review_1[[\"Professor\", \"Total Reviews\", \"Average Quality\", \"Average Difficulty\", \"Average Confidence Score\"]]\n",
    "\n",
    "prof_scores"
   ]
  },
  {
   "cell_type": "code",
   "execution_count": 45,
   "id": "9bae8a81-2798-43d1-8974-960eb8b3cce9",
   "metadata": {
    "tags": []
   },
   "outputs": [
    {
     "name": "stderr",
     "output_type": "stream",
     "text": [
      "/var/folders/9y/b5p0clvn3xg1rc6p4_hxzny40000gn/T/ipykernel_1694/3108155608.py:4: FutureWarning: The frame.append method is deprecated and will be removed from pandas in a future version. Use pandas.concat instead.\n",
      "  prof_scores = prof_scores.append(new_2, ignore_index=True)\n",
      "/var/folders/9y/b5p0clvn3xg1rc6p4_hxzny40000gn/T/ipykernel_1694/3108155608.py:5: FutureWarning: The frame.append method is deprecated and will be removed from pandas in a future version. Use pandas.concat instead.\n",
      "  prof_scores = prof_scores.append(new_3, ignore_index=True)\n"
     ]
    }
   ],
   "source": [
    "new_2 = review_2[[\"Professor\", \"Total Reviews\", \"Average Quality\", \"Average Difficulty\", \"Average Confidence Score\"]]\n",
    "new_3 = review_3[[\"Professor\", \"Total Reviews\", \"Average Quality\", \"Average Difficulty\", \"Average Confidence Score\"]]\n",
    "\n",
    "prof_scores = prof_scores.append(new_2, ignore_index=True)\n",
    "prof_scores = prof_scores.append(new_3, ignore_index=True)"
   ]
  },
  {
   "cell_type": "code",
   "execution_count": 46,
   "id": "ac380f2d-c7ec-4717-9f5c-07da06531a3b",
   "metadata": {
    "tags": []
   },
   "outputs": [
    {
     "data": {
      "text/html": [
       "<div>\n",
       "<style scoped>\n",
       "    .dataframe tbody tr th:only-of-type {\n",
       "        vertical-align: middle;\n",
       "    }\n",
       "\n",
       "    .dataframe tbody tr th {\n",
       "        vertical-align: top;\n",
       "    }\n",
       "\n",
       "    .dataframe thead th {\n",
       "        text-align: right;\n",
       "    }\n",
       "</style>\n",
       "<table border=\"1\" class=\"dataframe\">\n",
       "  <thead>\n",
       "    <tr style=\"text-align: right;\">\n",
       "      <th></th>\n",
       "      <th>Professor</th>\n",
       "      <th>Total Reviews</th>\n",
       "      <th>Average Quality</th>\n",
       "      <th>Average Difficulty</th>\n",
       "      <th>Average Confidence Score</th>\n",
       "    </tr>\n",
       "  </thead>\n",
       "  <tbody>\n",
       "    <tr>\n",
       "      <th>0</th>\n",
       "      <td>Cinda Heeren</td>\n",
       "      <td>20</td>\n",
       "      <td>4.25</td>\n",
       "      <td>2.15</td>\n",
       "      <td>0.906200</td>\n",
       "    </tr>\n",
       "    <tr>\n",
       "      <th>1</th>\n",
       "      <td>Ben Williams</td>\n",
       "      <td>20</td>\n",
       "      <td>3.80</td>\n",
       "      <td>3.65</td>\n",
       "      <td>0.924853</td>\n",
       "    </tr>\n",
       "    <tr>\n",
       "      <th>2</th>\n",
       "      <td>Gregor Kiczales</td>\n",
       "      <td>20</td>\n",
       "      <td>4.00</td>\n",
       "      <td>3.55</td>\n",
       "      <td>0.890220</td>\n",
       "    </tr>\n",
       "  </tbody>\n",
       "</table>\n",
       "</div>"
      ],
      "text/plain": [
       "         Professor  Total Reviews  Average Quality  Average Difficulty  \\\n",
       "0     Cinda Heeren             20             4.25                2.15   \n",
       "1     Ben Williams             20             3.80                3.65   \n",
       "2  Gregor Kiczales             20             4.00                3.55   \n",
       "\n",
       "   Average Confidence Score  \n",
       "0                  0.906200  \n",
       "1                  0.924853  \n",
       "2                  0.890220  "
      ]
     },
     "execution_count": 46,
     "metadata": {},
     "output_type": "execute_result"
    }
   ],
   "source": [
    "prof_scores"
   ]
  },
  {
   "cell_type": "code",
   "execution_count": 72,
   "id": "d239bfe8-e6e2-4dbd-8104-ed22a18fc81f",
   "metadata": {
    "tags": []
   },
   "outputs": [
    {
     "data": {
      "text/html": [
       "\n",
       "<style>\n",
       "  #altair-viz-816987d86b7046728840bdecad4329ac.vega-embed {\n",
       "    width: 100%;\n",
       "    display: flex;\n",
       "  }\n",
       "\n",
       "  #altair-viz-816987d86b7046728840bdecad4329ac.vega-embed details,\n",
       "  #altair-viz-816987d86b7046728840bdecad4329ac.vega-embed details summary {\n",
       "    position: relative;\n",
       "  }\n",
       "</style>\n",
       "<div id=\"altair-viz-816987d86b7046728840bdecad4329ac\"></div>\n",
       "<script type=\"text/javascript\">\n",
       "  var VEGA_DEBUG = (typeof VEGA_DEBUG == \"undefined\") ? {} : VEGA_DEBUG;\n",
       "  (function(spec, embedOpt){\n",
       "    let outputDiv = document.currentScript.previousElementSibling;\n",
       "    if (outputDiv.id !== \"altair-viz-816987d86b7046728840bdecad4329ac\") {\n",
       "      outputDiv = document.getElementById(\"altair-viz-816987d86b7046728840bdecad4329ac\");\n",
       "    }\n",
       "    const paths = {\n",
       "      \"vega\": \"https://cdn.jsdelivr.net/npm/vega@5?noext\",\n",
       "      \"vega-lib\": \"https://cdn.jsdelivr.net/npm/vega-lib?noext\",\n",
       "      \"vega-lite\": \"https://cdn.jsdelivr.net/npm/vega-lite@5.16.3?noext\",\n",
       "      \"vega-embed\": \"https://cdn.jsdelivr.net/npm/vega-embed@6?noext\",\n",
       "    };\n",
       "\n",
       "    function maybeLoadScript(lib, version) {\n",
       "      var key = `${lib.replace(\"-\", \"\")}_version`;\n",
       "      return (VEGA_DEBUG[key] == version) ?\n",
       "        Promise.resolve(paths[lib]) :\n",
       "        new Promise(function(resolve, reject) {\n",
       "          var s = document.createElement('script');\n",
       "          document.getElementsByTagName(\"head\")[0].appendChild(s);\n",
       "          s.async = true;\n",
       "          s.onload = () => {\n",
       "            VEGA_DEBUG[key] = version;\n",
       "            return resolve(paths[lib]);\n",
       "          };\n",
       "          s.onerror = () => reject(`Error loading script: ${paths[lib]}`);\n",
       "          s.src = paths[lib];\n",
       "        });\n",
       "    }\n",
       "\n",
       "    function showError(err) {\n",
       "      outputDiv.innerHTML = `<div class=\"error\" style=\"color:red;\">${err}</div>`;\n",
       "      throw err;\n",
       "    }\n",
       "\n",
       "    function displayChart(vegaEmbed) {\n",
       "      vegaEmbed(outputDiv, spec, embedOpt)\n",
       "        .catch(err => showError(`Javascript Error: ${err.message}<br>This usually means there's a typo in your chart specification. See the javascript console for the full traceback.`));\n",
       "    }\n",
       "\n",
       "    if(typeof define === \"function\" && define.amd) {\n",
       "      requirejs.config({paths});\n",
       "      require([\"vega-embed\"], displayChart, err => showError(`Error loading script: ${err.message}`));\n",
       "    } else {\n",
       "      maybeLoadScript(\"vega\", \"5\")\n",
       "        .then(() => maybeLoadScript(\"vega-lite\", \"5.16.3\"))\n",
       "        .then(() => maybeLoadScript(\"vega-embed\", \"6\"))\n",
       "        .catch(showError)\n",
       "        .then(() => displayChart(vegaEmbed));\n",
       "    }\n",
       "  })({\"config\": {\"view\": {\"continuousWidth\": 300, \"continuousHeight\": 300}, \"axis\": {\"grid\": false}}, \"data\": {\"name\": \"data-4ef57a1f89f2232904122d3973aa816a\"}, \"mark\": {\"type\": \"bar\"}, \"encoding\": {\"color\": {\"field\": \"Professor\", \"scale\": {\"scheme\": \"inferno\"}, \"type\": \"nominal\"}, \"x\": {\"axis\": {\"labelAngle\": 0, \"ticks\": false}, \"field\": \"Professor\", \"type\": \"nominal\"}, \"y\": {\"field\": \"Average Quality\", \"type\": \"quantitative\"}}, \"height\": 200, \"title\": \"Average Difficulty of Professors\", \"width\": 500, \"$schema\": \"https://vega.github.io/schema/vega-lite/v5.16.3.json\", \"datasets\": {\"data-4ef57a1f89f2232904122d3973aa816a\": [{\"Professor\": \"Cinda Heeren\", \"Total Reviews\": 20, \"Average Quality\": 4.25, \"Average Difficulty\": 2.15, \"Average Confidence Score\": 0.9062003940343857}, {\"Professor\": \"Ben Williams\", \"Total Reviews\": 20, \"Average Quality\": 3.8, \"Average Difficulty\": 3.65, \"Average Confidence Score\": 0.9248532086610795}, {\"Professor\": \"Gregor Kiczales\", \"Total Reviews\": 20, \"Average Quality\": 4.0, \"Average Difficulty\": 3.55, \"Average Confidence Score\": 0.8902204737067223}]}}, {\"mode\": \"vega-lite\"});\n",
       "</script>"
      ],
      "text/plain": [
       "alt.Chart(...)"
      ]
     },
     "execution_count": 72,
     "metadata": {},
     "output_type": "execute_result"
    }
   ],
   "source": [
    "# \n",
    "alt.Chart(prof_scores).mark_bar().encode(\n",
    "    x = alt.X(\"Professor\", axis = alt.Axis(labelAngle = 0, ticks = False)), \n",
    "    y = alt.Y(\"Average Quality\"),\n",
    "    color = alt.Color(\"Professor\", scale = alt.Scale(scheme = 'inferno'))\n",
    "\n",
    ").properties(\n",
    "    title = \"Average Difficulty of Professors\",\n",
    "    width = 500,\n",
    "    height = 200\n",
    "\n",
    ").configure(\n",
    "    axis = alt.Axis(grid = False)\n",
    ")"
   ]
  },
  {
   "cell_type": "code",
   "execution_count": 56,
   "id": "90085444-5727-48f9-8941-7bcee522430f",
   "metadata": {
    "tags": []
   },
   "outputs": [
    {
     "data": {
      "text/html": [
       "\n",
       "<style>\n",
       "  #altair-viz-a7bbaaaec0874f18bc95f1a9c3680d11.vega-embed {\n",
       "    width: 100%;\n",
       "    display: flex;\n",
       "  }\n",
       "\n",
       "  #altair-viz-a7bbaaaec0874f18bc95f1a9c3680d11.vega-embed details,\n",
       "  #altair-viz-a7bbaaaec0874f18bc95f1a9c3680d11.vega-embed details summary {\n",
       "    position: relative;\n",
       "  }\n",
       "</style>\n",
       "<div id=\"altair-viz-a7bbaaaec0874f18bc95f1a9c3680d11\"></div>\n",
       "<script type=\"text/javascript\">\n",
       "  var VEGA_DEBUG = (typeof VEGA_DEBUG == \"undefined\") ? {} : VEGA_DEBUG;\n",
       "  (function(spec, embedOpt){\n",
       "    let outputDiv = document.currentScript.previousElementSibling;\n",
       "    if (outputDiv.id !== \"altair-viz-a7bbaaaec0874f18bc95f1a9c3680d11\") {\n",
       "      outputDiv = document.getElementById(\"altair-viz-a7bbaaaec0874f18bc95f1a9c3680d11\");\n",
       "    }\n",
       "    const paths = {\n",
       "      \"vega\": \"https://cdn.jsdelivr.net/npm/vega@5?noext\",\n",
       "      \"vega-lib\": \"https://cdn.jsdelivr.net/npm/vega-lib?noext\",\n",
       "      \"vega-lite\": \"https://cdn.jsdelivr.net/npm/vega-lite@5.16.3?noext\",\n",
       "      \"vega-embed\": \"https://cdn.jsdelivr.net/npm/vega-embed@6?noext\",\n",
       "    };\n",
       "\n",
       "    function maybeLoadScript(lib, version) {\n",
       "      var key = `${lib.replace(\"-\", \"\")}_version`;\n",
       "      return (VEGA_DEBUG[key] == version) ?\n",
       "        Promise.resolve(paths[lib]) :\n",
       "        new Promise(function(resolve, reject) {\n",
       "          var s = document.createElement('script');\n",
       "          document.getElementsByTagName(\"head\")[0].appendChild(s);\n",
       "          s.async = true;\n",
       "          s.onload = () => {\n",
       "            VEGA_DEBUG[key] = version;\n",
       "            return resolve(paths[lib]);\n",
       "          };\n",
       "          s.onerror = () => reject(`Error loading script: ${paths[lib]}`);\n",
       "          s.src = paths[lib];\n",
       "        });\n",
       "    }\n",
       "\n",
       "    function showError(err) {\n",
       "      outputDiv.innerHTML = `<div class=\"error\" style=\"color:red;\">${err}</div>`;\n",
       "      throw err;\n",
       "    }\n",
       "\n",
       "    function displayChart(vegaEmbed) {\n",
       "      vegaEmbed(outputDiv, spec, embedOpt)\n",
       "        .catch(err => showError(`Javascript Error: ${err.message}<br>This usually means there's a typo in your chart specification. See the javascript console for the full traceback.`));\n",
       "    }\n",
       "\n",
       "    if(typeof define === \"function\" && define.amd) {\n",
       "      requirejs.config({paths});\n",
       "      require([\"vega-embed\"], displayChart, err => showError(`Error loading script: ${err.message}`));\n",
       "    } else {\n",
       "      maybeLoadScript(\"vega\", \"5\")\n",
       "        .then(() => maybeLoadScript(\"vega-lite\", \"5.16.3\"))\n",
       "        .then(() => maybeLoadScript(\"vega-embed\", \"6\"))\n",
       "        .catch(showError)\n",
       "        .then(() => displayChart(vegaEmbed));\n",
       "    }\n",
       "  })({\"config\": {\"view\": {\"continuousWidth\": 300, \"continuousHeight\": 300}, \"axis\": {\"grid\": false}}, \"data\": {\"name\": \"data-4ef57a1f89f2232904122d3973aa816a\"}, \"mark\": {\"type\": \"circle\", \"size\": 100}, \"encoding\": {\"color\": {\"field\": \"Professor\", \"type\": \"nominal\"}, \"x\": {\"field\": \"Average Quality\", \"type\": \"quantitative\"}, \"y\": {\"field\": \"Average Difficulty\", \"type\": \"quantitative\"}}, \"height\": 200, \"title\": \"Average Difficulty Vs Average Quality\", \"width\": 500, \"$schema\": \"https://vega.github.io/schema/vega-lite/v5.16.3.json\", \"datasets\": {\"data-4ef57a1f89f2232904122d3973aa816a\": [{\"Professor\": \"Cinda Heeren\", \"Total Reviews\": 20, \"Average Quality\": 4.25, \"Average Difficulty\": 2.15, \"Average Confidence Score\": 0.9062003940343857}, {\"Professor\": \"Ben Williams\", \"Total Reviews\": 20, \"Average Quality\": 3.8, \"Average Difficulty\": 3.65, \"Average Confidence Score\": 0.9248532086610795}, {\"Professor\": \"Gregor Kiczales\", \"Total Reviews\": 20, \"Average Quality\": 4.0, \"Average Difficulty\": 3.55, \"Average Confidence Score\": 0.8902204737067223}]}}, {\"mode\": \"vega-lite\"});\n",
       "</script>"
      ],
      "text/plain": [
       "alt.Chart(...)"
      ]
     },
     "execution_count": 56,
     "metadata": {},
     "output_type": "execute_result"
    }
   ],
   "source": [
    "# Scatter Plot\n",
    "\n",
    "alt.Chart(prof_scores).mark_circle(size = 100).encode(\n",
    "    x = alt.X(\"Average Quality\"),\n",
    "    y = alt.Y(\"Average Difficulty\"),\n",
    "    color = \"Professor\"\n",
    ").properties(\n",
    "    title = \"Average Difficulty Vs Average Quality\",\n",
    "    width = 500,\n",
    "    height = 200\n",
    "\n",
    ").configure(\n",
    "    axis = alt.Axis(grid = False)\n",
    ")"
   ]
  },
  {
   "cell_type": "markdown",
   "id": "95772aed-9890-4866-ad20-e61174ccb1ba",
   "metadata": {},
   "source": [
    "- will require more prof reviews!!!"
   ]
  },
  {
   "cell_type": "code",
   "execution_count": null,
   "id": "3a05d262-f5ed-440e-8cd0-95199d1bf18d",
   "metadata": {},
   "outputs": [],
   "source": []
  }
 ],
 "metadata": {
  "kernelspec": {
   "display_name": "Python [conda env:cpsc330]",
   "language": "python",
   "name": "conda-env-cpsc330-py"
  },
  "language_info": {
   "codemirror_mode": {
    "name": "ipython",
    "version": 3
   },
   "file_extension": ".py",
   "mimetype": "text/x-python",
   "name": "python",
   "nbconvert_exporter": "python",
   "pygments_lexer": "ipython3",
   "version": "3.10.13"
  }
 },
 "nbformat": 4,
 "nbformat_minor": 5
}
