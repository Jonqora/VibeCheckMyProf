{
 "cells": [
  {
   "cell_type": "markdown",
   "id": "7bcc14f7-a26f-4f2e-80a4-f840acf8f4ea",
   "metadata": {},
   "source": [
    "#### VADER"
   ]
  },
  {
   "cell_type": "code",
   "execution_count": 1,
   "id": "0bdc08df-a8aa-4b1d-bebc-1ab94369dbc4",
   "metadata": {
    "tags": []
   },
   "outputs": [],
   "source": [
    "#!pip install vaderSentiment"
   ]
  },
  {
   "cell_type": "code",
   "execution_count": 2,
   "id": "19be820e-d1e5-45fc-a5ab-468732b9f3b3",
   "metadata": {
    "tags": []
   },
   "outputs": [],
   "source": [
    "from Vader_Analysis import *"
   ]
  },
  {
   "cell_type": "code",
   "execution_count": 3,
   "id": "a3c26c89-0d60-4780-874b-9c25890f521f",
   "metadata": {
    "tags": []
   },
   "outputs": [
    {
     "name": "stdout",
     "output_type": "stream",
     "text": [
      "{'neg': 0.043, 'neu': 0.617, 'pos': 0.34, 'compound': 0.9258}\n",
      "{'neg': 0.041, 'neu': 0.667, 'pos': 0.292, 'compound': 0.8687}\n",
      "{'neg': 0.031, 'neu': 0.492, 'pos': 0.477, 'compound': 0.9871}\n",
      "{'neg': 0.0, 'neu': 0.699, 'pos': 0.301, 'compound': 0.965}\n",
      "{'neg': 0.0, 'neu': 1.0, 'pos': 0.0, 'compound': 0.0}\n",
      "{'neg': 0.089, 'neu': 0.664, 'pos': 0.247, 'compound': 0.5346}\n",
      "{'neg': 0.0, 'neu': 0.382, 'pos': 0.618, 'compound': 0.9758}\n",
      "{'neg': 0.081, 'neu': 0.716, 'pos': 0.202, 'compound': 0.5815}\n",
      "{'neg': 0.048, 'neu': 0.674, 'pos': 0.278, 'compound': 0.872}\n",
      "{'neg': 0.054, 'neu': 0.679, 'pos': 0.267, 'compound': 0.9468}\n",
      "{'neg': 0.018, 'neu': 0.674, 'pos': 0.308, 'compound': 0.9633}\n",
      "{'neg': 0.214, 'neu': 0.627, 'pos': 0.159, 'compound': -0.2244}\n",
      "{'neg': 0.0, 'neu': 0.663, 'pos': 0.337, 'compound': 0.9746}\n",
      "{'neg': 0.0, 'neu': 0.449, 'pos': 0.551, 'compound': 0.9545}\n",
      "{'neg': 0.0, 'neu': 0.792, 'pos': 0.208, 'compound': 0.9326}\n",
      "{'neg': 0.0, 'neu': 0.403, 'pos': 0.597, 'compound': 0.946}\n",
      "{'neg': 0.0, 'neu': 0.778, 'pos': 0.222, 'compound': 0.9282}\n",
      "{'neg': 0.062, 'neu': 0.483, 'pos': 0.455, 'compound': 0.944}\n",
      "{'neg': 0.096, 'neu': 0.607, 'pos': 0.296, 'compound': 0.6808}\n",
      "{'neg': 0.0, 'neu': 0.703, 'pos': 0.297, 'compound': 0.9435}\n"
     ]
    }
   ],
   "source": [
    "prof_1 = run_analysis(\"reviews/prof2302527scrape-Copy1.json\")"
   ]
  },
  {
   "cell_type": "code",
   "execution_count": 4,
   "id": "c1e7b8cc-9ea8-4909-b7cd-d0c726b6b36a",
   "metadata": {
    "tags": []
   },
   "outputs": [
    {
     "data": {
      "text/html": [
       "<div>\n",
       "<style scoped>\n",
       "    .dataframe tbody tr th:only-of-type {\n",
       "        vertical-align: middle;\n",
       "    }\n",
       "\n",
       "    .dataframe tbody tr th {\n",
       "        vertical-align: top;\n",
       "    }\n",
       "\n",
       "    .dataframe thead th {\n",
       "        text-align: right;\n",
       "    }\n",
       "</style>\n",
       "<table border=\"1\" class=\"dataframe\">\n",
       "  <thead>\n",
       "    <tr style=\"text-align: right;\">\n",
       "      <th></th>\n",
       "      <th>Professor</th>\n",
       "      <th>Total Reviews</th>\n",
       "      <th>Avg Quality</th>\n",
       "      <th>Avg Difficulty</th>\n",
       "      <th>Avg VADER Compound Score</th>\n",
       "      <th>Avg VADER Positive Score</th>\n",
       "      <th>Avg VADER Negative Score</th>\n",
       "      <th>Avg VADER Neutral Score</th>\n",
       "    </tr>\n",
       "  </thead>\n",
       "  <tbody>\n",
       "    <tr>\n",
       "      <th>0</th>\n",
       "      <td>Cinda Heeren</td>\n",
       "      <td>20</td>\n",
       "      <td>4.25</td>\n",
       "      <td>2.15</td>\n",
       "      <td>0.9435</td>\n",
       "      <td>0.297</td>\n",
       "      <td>0.0</td>\n",
       "      <td>0.703</td>\n",
       "    </tr>\n",
       "  </tbody>\n",
       "</table>\n",
       "</div>"
      ],
      "text/plain": [
       "      Professor  Total Reviews  Avg Quality  Avg Difficulty  \\\n",
       "0  Cinda Heeren             20         4.25            2.15   \n",
       "\n",
       "   Avg VADER Compound Score  Avg VADER Positive Score  \\\n",
       "0                    0.9435                     0.297   \n",
       "\n",
       "   Avg VADER Negative Score  Avg VADER Neutral Score  \n",
       "0                       0.0                    0.703  "
      ]
     },
     "execution_count": 4,
     "metadata": {},
     "output_type": "execute_result"
    }
   ],
   "source": [
    "prof_1"
   ]
  },
  {
   "cell_type": "code",
   "execution_count": 5,
   "id": "6a1e67d3-8c8e-4849-9031-bb9936bb4fd9",
   "metadata": {
    "tags": []
   },
   "outputs": [
    {
     "name": "stdout",
     "output_type": "stream",
     "text": [
      "{'neg': 0.018, 'neu': 0.821, 'pos': 0.161, 'compound': 0.8126}\n",
      "{'neg': 0.026, 'neu': 0.758, 'pos': 0.216, 'compound': 0.9223}\n",
      "{'neg': 0.09, 'neu': 0.742, 'pos': 0.168, 'compound': 0.6249}\n",
      "{'neg': 0.15, 'neu': 0.747, 'pos': 0.104, 'compound': -0.5525}\n",
      "{'neg': 0.0, 'neu': 0.792, 'pos': 0.208, 'compound': 0.6369}\n",
      "{'neg': 0.0, 'neu': 0.347, 'pos': 0.653, 'compound': 0.8834}\n",
      "{'neg': 0.0, 'neu': 0.408, 'pos': 0.592, 'compound': 0.7003}\n",
      "{'neg': 0.198, 'neu': 0.757, 'pos': 0.045, 'compound': -0.7922}\n",
      "{'neg': 0.058, 'neu': 0.699, 'pos': 0.243, 'compound': 0.8939}\n",
      "{'neg': 0.06, 'neu': 0.824, 'pos': 0.116, 'compound': 0.3369}\n",
      "{'neg': 0.095, 'neu': 0.618, 'pos': 0.287, 'compound': 0.9476}\n",
      "{'neg': 0.278, 'neu': 0.666, 'pos': 0.056, 'compound': -0.8851}\n",
      "{'neg': 0.082, 'neu': 0.797, 'pos': 0.12, 'compound': 0.1111}\n",
      "{'neg': 0.0, 'neu': 0.694, 'pos': 0.306, 'compound': 0.9575}\n",
      "{'neg': 0.022, 'neu': 0.659, 'pos': 0.319, 'compound': 0.9688}\n",
      "{'neg': 0.224, 'neu': 0.642, 'pos': 0.135, 'compound': -0.6892}\n",
      "{'neg': 0.51, 'neu': 0.49, 'pos': 0.0, 'compound': -0.743}\n",
      "{'neg': 0.016, 'neu': 0.784, 'pos': 0.2, 'compound': 0.9109}\n",
      "{'neg': 0.057, 'neu': 0.613, 'pos': 0.33, 'compound': 0.971}\n",
      "{'neg': 0.046, 'neu': 0.856, 'pos': 0.098, 'compound': 0.3949}\n"
     ]
    }
   ],
   "source": [
    "prof_2 = run_analysis(\"reviews/prof1835982scrape-Copy1.json\")"
   ]
  },
  {
   "cell_type": "code",
   "execution_count": 6,
   "id": "a74a7e51-333a-4e6f-8356-0d9687827db6",
   "metadata": {
    "tags": []
   },
   "outputs": [
    {
     "data": {
      "text/html": [
       "<div>\n",
       "<style scoped>\n",
       "    .dataframe tbody tr th:only-of-type {\n",
       "        vertical-align: middle;\n",
       "    }\n",
       "\n",
       "    .dataframe tbody tr th {\n",
       "        vertical-align: top;\n",
       "    }\n",
       "\n",
       "    .dataframe thead th {\n",
       "        text-align: right;\n",
       "    }\n",
       "</style>\n",
       "<table border=\"1\" class=\"dataframe\">\n",
       "  <thead>\n",
       "    <tr style=\"text-align: right;\">\n",
       "      <th></th>\n",
       "      <th>Professor</th>\n",
       "      <th>Total Reviews</th>\n",
       "      <th>Avg Quality</th>\n",
       "      <th>Avg Difficulty</th>\n",
       "      <th>Avg VADER Compound Score</th>\n",
       "      <th>Avg VADER Positive Score</th>\n",
       "      <th>Avg VADER Negative Score</th>\n",
       "      <th>Avg VADER Neutral Score</th>\n",
       "    </tr>\n",
       "  </thead>\n",
       "  <tbody>\n",
       "    <tr>\n",
       "      <th>0</th>\n",
       "      <td>Ben Williams</td>\n",
       "      <td>20</td>\n",
       "      <td>3.8</td>\n",
       "      <td>3.65</td>\n",
       "      <td>0.3949</td>\n",
       "      <td>0.098</td>\n",
       "      <td>0.046</td>\n",
       "      <td>0.856</td>\n",
       "    </tr>\n",
       "  </tbody>\n",
       "</table>\n",
       "</div>"
      ],
      "text/plain": [
       "      Professor  Total Reviews  Avg Quality  Avg Difficulty  \\\n",
       "0  Ben Williams             20          3.8            3.65   \n",
       "\n",
       "   Avg VADER Compound Score  Avg VADER Positive Score  \\\n",
       "0                    0.3949                     0.098   \n",
       "\n",
       "   Avg VADER Negative Score  Avg VADER Neutral Score  \n",
       "0                     0.046                    0.856  "
      ]
     },
     "execution_count": 6,
     "metadata": {},
     "output_type": "execute_result"
    }
   ],
   "source": [
    "prof_2"
   ]
  },
  {
   "cell_type": "code",
   "execution_count": 7,
   "id": "5b0f1ecb-1998-465b-968b-26e629e5ec6d",
   "metadata": {
    "tags": []
   },
   "outputs": [
    {
     "name": "stdout",
     "output_type": "stream",
     "text": [
      "{'neg': 0.0, 'neu': 0.7, 'pos': 0.3, 'compound': 0.7184}\n",
      "{'neg': 0.029, 'neu': 0.59, 'pos': 0.381, 'compound': 0.9509}\n",
      "{'neg': 0.074, 'neu': 0.834, 'pos': 0.092, 'compound': 0.3182}\n",
      "{'neg': 0.085, 'neu': 0.706, 'pos': 0.209, 'compound': 0.8914}\n",
      "{'neg': 0.147, 'neu': 0.743, 'pos': 0.111, 'compound': -0.3732}\n",
      "{'neg': 0.039, 'neu': 0.622, 'pos': 0.34, 'compound': 0.9272}\n",
      "{'neg': 0.057, 'neu': 0.601, 'pos': 0.342, 'compound': 0.977}\n",
      "{'neg': 0.188, 'neu': 0.812, 'pos': 0.0, 'compound': -0.8658}\n",
      "{'neg': 0.0, 'neu': 1.0, 'pos': 0.0, 'compound': 0.0}\n",
      "{'neg': 0.066, 'neu': 0.737, 'pos': 0.197, 'compound': 0.8475}\n",
      "{'neg': 0.032, 'neu': 0.745, 'pos': 0.223, 'compound': 0.9098}\n",
      "{'neg': 0.042, 'neu': 0.622, 'pos': 0.336, 'compound': 0.9789}\n",
      "{'neg': 0.0, 'neu': 0.817, 'pos': 0.183, 'compound': 0.5733}\n",
      "{'neg': 0.046, 'neu': 0.695, 'pos': 0.259, 'compound': 0.9558}\n",
      "{'neg': 0.105, 'neu': 0.758, 'pos': 0.137, 'compound': 0.25}\n",
      "{'neg': 0.111, 'neu': 0.763, 'pos': 0.126, 'compound': 0.0387}\n",
      "{'neg': 0.0, 'neu': 0.552, 'pos': 0.448, 'compound': 0.7579}\n",
      "{'neg': 0.0, 'neu': 0.836, 'pos': 0.164, 'compound': 0.7096}\n",
      "{'neg': 0.075, 'neu': 0.879, 'pos': 0.046, 'compound': -0.1921}\n",
      "{'neg': 0.105, 'neu': 0.747, 'pos': 0.148, 'compound': 0.6426}\n"
     ]
    }
   ],
   "source": [
    "prof_3 = run_analysis(\"reviews/prof38077scrape.json\")"
   ]
  },
  {
   "cell_type": "code",
   "execution_count": 8,
   "id": "84988879-6827-465a-ba3f-9030394fea46",
   "metadata": {
    "tags": []
   },
   "outputs": [
    {
     "data": {
      "text/html": [
       "<div>\n",
       "<style scoped>\n",
       "    .dataframe tbody tr th:only-of-type {\n",
       "        vertical-align: middle;\n",
       "    }\n",
       "\n",
       "    .dataframe tbody tr th {\n",
       "        vertical-align: top;\n",
       "    }\n",
       "\n",
       "    .dataframe thead th {\n",
       "        text-align: right;\n",
       "    }\n",
       "</style>\n",
       "<table border=\"1\" class=\"dataframe\">\n",
       "  <thead>\n",
       "    <tr style=\"text-align: right;\">\n",
       "      <th></th>\n",
       "      <th>Professor</th>\n",
       "      <th>Total Reviews</th>\n",
       "      <th>Avg Quality</th>\n",
       "      <th>Avg Difficulty</th>\n",
       "      <th>Avg VADER Compound Score</th>\n",
       "      <th>Avg VADER Positive Score</th>\n",
       "      <th>Avg VADER Negative Score</th>\n",
       "      <th>Avg VADER Neutral Score</th>\n",
       "    </tr>\n",
       "  </thead>\n",
       "  <tbody>\n",
       "    <tr>\n",
       "      <th>0</th>\n",
       "      <td>Gregor Kiczales</td>\n",
       "      <td>20</td>\n",
       "      <td>4.0</td>\n",
       "      <td>3.55</td>\n",
       "      <td>0.6426</td>\n",
       "      <td>0.148</td>\n",
       "      <td>0.105</td>\n",
       "      <td>0.747</td>\n",
       "    </tr>\n",
       "  </tbody>\n",
       "</table>\n",
       "</div>"
      ],
      "text/plain": [
       "         Professor  Total Reviews  Avg Quality  Avg Difficulty  \\\n",
       "0  Gregor Kiczales             20          4.0            3.55   \n",
       "\n",
       "   Avg VADER Compound Score  Avg VADER Positive Score  \\\n",
       "0                    0.6426                     0.148   \n",
       "\n",
       "   Avg VADER Negative Score  Avg VADER Neutral Score  \n",
       "0                     0.105                    0.747  "
      ]
     },
     "execution_count": 8,
     "metadata": {},
     "output_type": "execute_result"
    }
   ],
   "source": [
    "prof_3"
   ]
  },
  {
   "cell_type": "markdown",
   "id": "cd74665d-3696-462c-ad46-a8644aa46a31",
   "metadata": {},
   "source": [
    "### NOTE:\n",
    "\n",
    "From: https://github.com/cjhutto/vaderSentiment/tree/master\n",
    "\n",
    "Compound Score\n",
    "- is the metric to look at if you want a single unidimensional measure of sentiment for a given sentence.\n",
    "- a normalized, weighted composite score\n",
    "\n",
    "Standardized thresholds for classifying sentences as either positive, neutral, or negative.\n",
    "- positive sentiment: compound score >= 0.05\n",
    "- neutral sentiment: (compound score > -0.05) and (compound score < 0.05)\n",
    "- negative sentiment: compound score <= -0.05\n",
    "- pos, neu, and neg scores are ratios for proportions of text that fall in each category (these 3 should add up to be about 1). "
   ]
  },
  {
   "cell_type": "markdown",
   "id": "17ce5d9b-fbb7-483b-965d-63f416f66205",
   "metadata": {},
   "source": [
    "<br>\n",
    "<br>\n",
    "<br>"
   ]
  },
  {
   "cell_type": "markdown",
   "id": "7c6e475a-77f1-4ed7-9fe9-187d459d969e",
   "metadata": {},
   "source": [
    "#### FLAIR"
   ]
  },
  {
   "cell_type": "code",
   "execution_count": 1,
   "id": "97a3ee25-afd6-4e2c-a514-fb61496073b2",
   "metadata": {
    "tags": []
   },
   "outputs": [],
   "source": [
    "#!pip install flair"
   ]
  },
  {
   "cell_type": "code",
   "execution_count": 2,
   "id": "ec90d237-3900-43e1-8706-bcaa5e6e6db7",
   "metadata": {
    "tags": []
   },
   "outputs": [
    {
     "name": "stdout",
     "output_type": "stream",
     "text": [
      "0.14.0\n"
     ]
    }
   ],
   "source": [
    "import flair\n",
    "print(flair.__version__)"
   ]
  },
  {
   "cell_type": "code",
   "execution_count": 3,
   "id": "9dabad8c-6571-41a1-ae68-671a3fb7fa0f",
   "metadata": {
    "tags": []
   },
   "outputs": [],
   "source": [
    "from Flair_Analysis import *"
   ]
  },
  {
   "cell_type": "code",
   "execution_count": 4,
   "id": "6bfdf39a-aec7-457d-83aa-b70b5f44f655",
   "metadata": {
    "tags": []
   },
   "outputs": [
    {
     "name": "stdout",
     "output_type": "stream",
     "text": [
      "Sentiment: POSITIVE, Score: 0.9203637838363647\n",
      "Sentiment: POSITIVE, Score: 0.9993221759796143\n",
      "Sentiment: POSITIVE, Score: 0.9760520458221436\n",
      "Sentiment: POSITIVE, Score: 0.9923228025436401\n",
      "Sentiment: POSITIVE, Score: 0.9950775504112244\n",
      "Sentiment: POSITIVE, Score: 0.9917563199996948\n",
      "Sentiment: POSITIVE, Score: 0.9964476823806763\n",
      "Sentiment: NEGATIVE, Score: 0.9999556541442871\n",
      "Sentiment: NEGATIVE, Score: 0.9999524354934692\n",
      "Sentiment: POSITIVE, Score: 0.9886794686317444\n",
      "Sentiment: POSITIVE, Score: 0.9992765784263611\n",
      "Sentiment: NEGATIVE, Score: 0.9998051524162292\n",
      "Sentiment: POSITIVE, Score: 0.9989546537399292\n",
      "Sentiment: POSITIVE, Score: 0.9438660144805908\n",
      "Sentiment: POSITIVE, Score: 0.9975308775901794\n",
      "Sentiment: POSITIVE, Score: 0.9952260255813599\n",
      "Sentiment: POSITIVE, Score: 0.9987045526504517\n",
      "Sentiment: POSITIVE, Score: 0.9933068156242371\n",
      "Sentiment: POSITIVE, Score: 0.9933152794837952\n",
      "Sentiment: POSITIVE, Score: 0.9917375445365906\n"
     ]
    }
   ],
   "source": [
    "flair_1 = run_analysis(\"reviews/prof2302527scrape-Copy1.json\")"
   ]
  },
  {
   "cell_type": "code",
   "execution_count": 5,
   "id": "d19901bb-228b-420c-b232-68e6c2ce689c",
   "metadata": {
    "tags": []
   },
   "outputs": [
    {
     "data": {
      "text/html": [
       "<div>\n",
       "<style scoped>\n",
       "    .dataframe tbody tr th:only-of-type {\n",
       "        vertical-align: middle;\n",
       "    }\n",
       "\n",
       "    .dataframe tbody tr th {\n",
       "        vertical-align: top;\n",
       "    }\n",
       "\n",
       "    .dataframe thead th {\n",
       "        text-align: right;\n",
       "    }\n",
       "</style>\n",
       "<table border=\"1\" class=\"dataframe\">\n",
       "  <thead>\n",
       "    <tr style=\"text-align: right;\">\n",
       "      <th></th>\n",
       "      <th>Professor</th>\n",
       "      <th>Total Reviews</th>\n",
       "      <th>Avg Quality</th>\n",
       "      <th>Avg Difficulty</th>\n",
       "      <th>Avg Sentiment Score</th>\n",
       "      <th>Highest Count Label</th>\n",
       "    </tr>\n",
       "  </thead>\n",
       "  <tbody>\n",
       "    <tr>\n",
       "      <th>0</th>\n",
       "      <td>Cinda Heeren</td>\n",
       "      <td>20</td>\n",
       "      <td>4.25</td>\n",
       "      <td>2.15</td>\n",
       "      <td>0.988583</td>\n",
       "      <td>POSITIVE</td>\n",
       "    </tr>\n",
       "  </tbody>\n",
       "</table>\n",
       "</div>"
      ],
      "text/plain": [
       "      Professor  Total Reviews  Avg Quality  Avg Difficulty  \\\n",
       "0  Cinda Heeren             20         4.25            2.15   \n",
       "\n",
       "   Avg Sentiment Score Highest Count Label  \n",
       "0             0.988583            POSITIVE  "
      ]
     },
     "execution_count": 5,
     "metadata": {},
     "output_type": "execute_result"
    }
   ],
   "source": [
    "flair_1"
   ]
  },
  {
   "cell_type": "code",
   "execution_count": 6,
   "id": "9728dd43-6cdb-403d-a1d1-e587540abfcb",
   "metadata": {
    "tags": []
   },
   "outputs": [
    {
     "name": "stdout",
     "output_type": "stream",
     "text": [
      "Sentiment: POSITIVE, Score: 0.9988133907318115\n",
      "Sentiment: POSITIVE, Score: 0.9986110925674438\n",
      "Sentiment: POSITIVE, Score: 0.9995954632759094\n",
      "Sentiment: NEGATIVE, Score: 0.9992008805274963\n",
      "Sentiment: POSITIVE, Score: 0.9916815161705017\n",
      "Sentiment: POSITIVE, Score: 0.9815641045570374\n",
      "Sentiment: POSITIVE, Score: 0.99765944480896\n",
      "Sentiment: NEGATIVE, Score: 0.9999881982803345\n",
      "Sentiment: POSITIVE, Score: 0.9918293356895447\n",
      "Sentiment: NEGATIVE, Score: 0.9998528957366943\n",
      "Sentiment: POSITIVE, Score: 0.988129734992981\n",
      "Sentiment: NEGATIVE, Score: 0.9999939203262329\n",
      "Sentiment: NEGATIVE, Score: 0.9999406337738037\n",
      "Sentiment: POSITIVE, Score: 0.9950942993164062\n",
      "Sentiment: POSITIVE, Score: 0.9959293007850647\n",
      "Sentiment: NEGATIVE, Score: 0.9999948740005493\n",
      "Sentiment: NEGATIVE, Score: 0.9998489618301392\n",
      "Sentiment: POSITIVE, Score: 0.9989956021308899\n",
      "Sentiment: POSITIVE, Score: 0.9994545578956604\n",
      "Sentiment: NEGATIVE, Score: 0.8556268811225891\n"
     ]
    }
   ],
   "source": [
    "flair_2 = run_analysis(\"reviews/prof1835982scrape-Copy1.json\")"
   ]
  },
  {
   "cell_type": "code",
   "execution_count": 7,
   "id": "059022a8-00a9-4157-9635-7a85ed24d259",
   "metadata": {
    "tags": []
   },
   "outputs": [
    {
     "data": {
      "text/html": [
       "<div>\n",
       "<style scoped>\n",
       "    .dataframe tbody tr th:only-of-type {\n",
       "        vertical-align: middle;\n",
       "    }\n",
       "\n",
       "    .dataframe tbody tr th {\n",
       "        vertical-align: top;\n",
       "    }\n",
       "\n",
       "    .dataframe thead th {\n",
       "        text-align: right;\n",
       "    }\n",
       "</style>\n",
       "<table border=\"1\" class=\"dataframe\">\n",
       "  <thead>\n",
       "    <tr style=\"text-align: right;\">\n",
       "      <th></th>\n",
       "      <th>Professor</th>\n",
       "      <th>Total Reviews</th>\n",
       "      <th>Avg Quality</th>\n",
       "      <th>Avg Difficulty</th>\n",
       "      <th>Avg Sentiment Score</th>\n",
       "      <th>Highest Count Label</th>\n",
       "    </tr>\n",
       "  </thead>\n",
       "  <tbody>\n",
       "    <tr>\n",
       "      <th>0</th>\n",
       "      <td>Ben Williams</td>\n",
       "      <td>20</td>\n",
       "      <td>3.8</td>\n",
       "      <td>3.65</td>\n",
       "      <td>0.98959</td>\n",
       "      <td>POSITIVE</td>\n",
       "    </tr>\n",
       "  </tbody>\n",
       "</table>\n",
       "</div>"
      ],
      "text/plain": [
       "      Professor  Total Reviews  Avg Quality  Avg Difficulty  \\\n",
       "0  Ben Williams             20          3.8            3.65   \n",
       "\n",
       "   Avg Sentiment Score Highest Count Label  \n",
       "0              0.98959            POSITIVE  "
      ]
     },
     "execution_count": 7,
     "metadata": {},
     "output_type": "execute_result"
    }
   ],
   "source": [
    "flair_2"
   ]
  },
  {
   "cell_type": "code",
   "execution_count": 8,
   "id": "32ea75d6-692e-409c-b524-6ef19132f40d",
   "metadata": {
    "tags": []
   },
   "outputs": [
    {
     "name": "stdout",
     "output_type": "stream",
     "text": [
      "Sentiment: POSITIVE, Score: 0.8148759603500366\n",
      "Sentiment: POSITIVE, Score: 0.9930608868598938\n",
      "Sentiment: NEGATIVE, Score: 0.9643223285675049\n",
      "Sentiment: POSITIVE, Score: 0.9986407160758972\n",
      "Sentiment: NEGATIVE, Score: 0.9999980926513672\n",
      "Sentiment: POSITIVE, Score: 0.9949217438697815\n",
      "Sentiment: POSITIVE, Score: 0.995426595211029\n",
      "Sentiment: NEGATIVE, Score: 0.9999884366989136\n",
      "Sentiment: POSITIVE, Score: 0.9992154836654663\n",
      "Sentiment: POSITIVE, Score: 0.9986817240715027\n",
      "Sentiment: POSITIVE, Score: 0.9990641474723816\n",
      "Sentiment: POSITIVE, Score: 0.9992972612380981\n",
      "Sentiment: POSITIVE, Score: 0.9984240531921387\n",
      "Sentiment: POSITIVE, Score: 0.9985931515693665\n",
      "Sentiment: NEGATIVE, Score: 0.999994158744812\n",
      "Sentiment: POSITIVE, Score: 0.99815434217453\n",
      "Sentiment: POSITIVE, Score: 0.9838379621505737\n",
      "Sentiment: NEGATIVE, Score: 0.999923586845398\n",
      "Sentiment: NEGATIVE, Score: 0.9999551773071289\n",
      "Sentiment: NEGATIVE, Score: 0.9997860789299011\n"
     ]
    }
   ],
   "source": [
    "flair_3 = run_analysis(\"reviews/prof38077scrape.json\")"
   ]
  },
  {
   "cell_type": "code",
   "execution_count": 9,
   "id": "f6b191f2-7101-4a39-a445-2f4f9f1576e3",
   "metadata": {
    "tags": []
   },
   "outputs": [
    {
     "data": {
      "text/html": [
       "<div>\n",
       "<style scoped>\n",
       "    .dataframe tbody tr th:only-of-type {\n",
       "        vertical-align: middle;\n",
       "    }\n",
       "\n",
       "    .dataframe tbody tr th {\n",
       "        vertical-align: top;\n",
       "    }\n",
       "\n",
       "    .dataframe thead th {\n",
       "        text-align: right;\n",
       "    }\n",
       "</style>\n",
       "<table border=\"1\" class=\"dataframe\">\n",
       "  <thead>\n",
       "    <tr style=\"text-align: right;\">\n",
       "      <th></th>\n",
       "      <th>Professor</th>\n",
       "      <th>Total Reviews</th>\n",
       "      <th>Avg Quality</th>\n",
       "      <th>Avg Difficulty</th>\n",
       "      <th>Avg Sentiment Score</th>\n",
       "      <th>Highest Count Label</th>\n",
       "    </tr>\n",
       "  </thead>\n",
       "  <tbody>\n",
       "    <tr>\n",
       "      <th>0</th>\n",
       "      <td>Gregor Kiczales</td>\n",
       "      <td>20</td>\n",
       "      <td>4.0</td>\n",
       "      <td>3.55</td>\n",
       "      <td>0.986808</td>\n",
       "      <td>POSITIVE</td>\n",
       "    </tr>\n",
       "  </tbody>\n",
       "</table>\n",
       "</div>"
      ],
      "text/plain": [
       "         Professor  Total Reviews  Avg Quality  Avg Difficulty  \\\n",
       "0  Gregor Kiczales             20          4.0            3.55   \n",
       "\n",
       "   Avg Sentiment Score Highest Count Label  \n",
       "0             0.986808            POSITIVE  "
      ]
     },
     "execution_count": 9,
     "metadata": {},
     "output_type": "execute_result"
    }
   ],
   "source": [
    "flair_3"
   ]
  },
  {
   "cell_type": "markdown",
   "id": "27a859f4-67cd-43f7-8791-6164160c23cf",
   "metadata": {},
   "source": [
    "<br>\n",
    "<br>\n",
    "\n",
    "From: https://github.com/flairNLP/flair?fbclid=IwY2xjawGCvpFleHRuA2FlbQIxMAABHdVcptNoV0QnkiMtK9Bmfd-1MqQSxW9heDMqCUE6oDYzB6GX2ZTUr5jceg_aem_MUxTTZAqwBmB0g6YI6fUFA\n",
    "\n",
    "\n",
    "*** Look at scores for negative again!! - error"
   ]
  },
  {
   "cell_type": "markdown",
   "id": "2cdf924a-1b50-4e8a-bc57-f722f916e0ca",
   "metadata": {},
   "source": [
    "<br>\n",
    "\n",
    "#### Amazon Comprehend\n",
    "\n",
    "Discuss AWS comprehend service: \n",
    "\n",
    "https://docs.aws.amazon.com/comprehend/latest/dg/what-is.html "
   ]
  },
  {
   "cell_type": "code",
   "execution_count": null,
   "id": "a8821da7-c415-404e-adbb-99ab5d44b250",
   "metadata": {},
   "outputs": [],
   "source": []
  }
 ],
 "metadata": {
  "kernelspec": {
   "display_name": "Python [conda env:cpsc330]",
   "language": "python",
   "name": "conda-env-cpsc330-py"
  },
  "language_info": {
   "codemirror_mode": {
    "name": "ipython",
    "version": 3
   },
   "file_extension": ".py",
   "mimetype": "text/x-python",
   "name": "python",
   "nbconvert_exporter": "python",
   "pygments_lexer": "ipython3",
   "version": "3.10.13"
  }
 },
 "nbformat": 4,
 "nbformat_minor": 5
}
